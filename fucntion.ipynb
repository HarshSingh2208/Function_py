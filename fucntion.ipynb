{
 "cells": [
  {
   "cell_type": "markdown",
   "id": "7ad3eaec",
   "metadata": {},
   "source": [
    "### Fareheit to Celcius function"
   ]
  },
  {
   "cell_type": "code",
   "execution_count": 3,
   "id": "56a2f195",
   "metadata": {},
   "outputs": [],
   "source": [
    "def f_to_c(start,end,jump):\n",
    "    while start<=end:\n",
    "        f_to_cel=int((((start-32)*5)/9))\n",
    "        print(start,f_to_cel)\n",
    "        start=start+jump"
   ]
  },
  {
   "cell_type": "code",
   "execution_count": 4,
   "id": "230c9afe",
   "metadata": {},
   "outputs": [
    {
     "name": "stdout",
     "output_type": "stream",
     "text": [
      "0\n",
      "100\n",
      "20\n",
      "0 -17\n",
      "20 -6\n",
      "40 4\n",
      "60 15\n",
      "80 26\n",
      "100 37\n"
     ]
    }
   ],
   "source": [
    "start=int(input())\n",
    "end=int(input())\n",
    "jump=int(input())\n",
    "\n",
    "f_to_c(start,end,jump)"
   ]
  },
  {
   "cell_type": "markdown",
   "id": "d182232b",
   "metadata": {},
   "source": [
    "### Fibonacci Member"
   ]
  },
  {
   "cell_type": "code",
   "execution_count": 5,
   "id": "fbe326b2",
   "metadata": {},
   "outputs": [],
   "source": [
    "def Fibo(n):\n",
    "    flag=False\n",
    "    first=0\n",
    "    second=1\n",
    "    i=0\n",
    "    while i<n:\n",
    "        next=first+second\n",
    "        first=second\n",
    "        second=next\n",
    "        if(first==n):\n",
    "            flag=True\n",
    "            break\n",
    "        \n",
    "        i=i+1\n",
    "    return flag"
   ]
  },
  {
   "cell_type": "code",
   "execution_count": 7,
   "id": "7b9d38f6",
   "metadata": {},
   "outputs": [
    {
     "name": "stdout",
     "output_type": "stream",
     "text": [
      "14\n",
      "False\n"
     ]
    }
   ],
   "source": [
    "n=int(input())\n",
    "result=Fibo(n)\n",
    "print(result)"
   ]
  },
  {
   "cell_type": "markdown",
   "id": "170b53e8",
   "metadata": {},
   "source": [
    "### Check Palindrome Number"
   ]
  },
  {
   "cell_type": "code",
   "execution_count": 8,
   "id": "25520274",
   "metadata": {},
   "outputs": [],
   "source": [
    "def Check_Palindrome(num):\n",
    "    real_num=num\n",
    "    r_num=0\n",
    "    while num>0:\n",
    "        temp=num%10\n",
    "        num=num//10\n",
    "        r_num=10*r_num+temp\n",
    "    if(real_num==r_num):\n",
    "        return True\n",
    "    else:\n",
    "        return False\n",
    "    "
   ]
  },
  {
   "cell_type": "code",
   "execution_count": 10,
   "id": "c065ea8e",
   "metadata": {},
   "outputs": [
    {
     "name": "stdout",
     "output_type": "stream",
     "text": [
      "616161644\n",
      "False\n"
     ]
    }
   ],
   "source": [
    "n=int(input())\n",
    "result=Check_Palindrome(n)\n",
    "print(result)"
   ]
  },
  {
   "cell_type": "markdown",
   "id": "8c520645",
   "metadata": {},
   "source": [
    "### Check Armstrong"
   ]
  },
  {
   "cell_type": "code",
   "execution_count": 14,
   "id": "c54327be",
   "metadata": {},
   "outputs": [],
   "source": [
    "def Check_Armstrong(num):\n",
    "    real_num=num\n",
    "    p=num\n",
    "    count=0\n",
    "    while p>0:\n",
    "        p=p//10\n",
    "        count=count+1\n",
    "        \n",
    "    r_num=0\n",
    "    while num>0:\n",
    "        temp=num%10\n",
    "        num=num//10\n",
    "        r_num=r_num+temp**count\n",
    "    if(real_num==r_num):\n",
    "        return True\n",
    "    else:\n",
    "        return False"
   ]
  },
  {
   "cell_type": "code",
   "execution_count": 16,
   "id": "ba7814b2",
   "metadata": {},
   "outputs": [
    {
     "name": "stdout",
     "output_type": "stream",
     "text": [
      "103\n",
      "False\n"
     ]
    }
   ],
   "source": [
    "n=int(input())\n",
    "result=Check_Armstrong(n)\n",
    "print(result)"
   ]
  },
  {
   "cell_type": "code",
   "execution_count": null,
   "id": "ef1b9c26",
   "metadata": {},
   "outputs": [],
   "source": []
  }
 ],
 "metadata": {
  "kernelspec": {
   "display_name": "Python 3",
   "language": "python",
   "name": "python3"
  },
  "language_info": {
   "codemirror_mode": {
    "name": "ipython",
    "version": 3
   },
   "file_extension": ".py",
   "mimetype": "text/x-python",
   "name": "python",
   "nbconvert_exporter": "python",
   "pygments_lexer": "ipython3",
   "version": "3.7.7"
  }
 },
 "nbformat": 4,
 "nbformat_minor": 5
}
